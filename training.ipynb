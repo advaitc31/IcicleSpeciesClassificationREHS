{
 "cells": [
  {
   "cell_type": "markdown",
   "id": "2796113a-4d98-4d57-88dc-58c69acaa260",
   "metadata": {},
   "source": [
    "**Import training function from main.py**"
   ]
  },
  {
   "cell_type": "code",
   "execution_count": null,
   "id": "0e21b6ac-c582-45a1-8a1e-5e18719c8c7d",
   "metadata": {},
   "outputs": [],
   "source": [
    "from main import run_training"
   ]
  },
  {
   "cell_type": "markdown",
   "id": "7b90ddc2-aa23-42e5-97ad-f84a385a5aa7",
   "metadata": {},
   "source": [
    "**Initialize dictionary of arguments for training**"
   ]
  },
  {
   "cell_type": "code",
   "execution_count": null,
   "id": "983ef948-c4a8-4be9-a318-1d5ab22c9cc4",
   "metadata": {},
   "outputs": [],
   "source": [
    "args_dict = {\n",
    "    'data_dir': 'data/iwildcam_v2.0/',\n",
    "    'img_dir': 'data/iwildcam_v2.0/train/',\n",
    "    'batch_size': 16,\n",
    "    'n_epochs': 12,\n",
    "    'lr': 1e-3,\n",
    "    'loc_lr': 1e-3,\n",
    "    'time_lr': 1e-3,\n",
    "    'weight_decay': 0.0,\n",
    "    'seed': 42,\n",
    "    'ckpt_path': None,\n",
    "    'start_epoch': 0,\n",
    "    'early_stopping_patience': 3,\n",
    "    'debug': False,\n",
    "    'no_cuda': False,  # set to True if using CPU\n",
    "    'embedding_dim': 512,\n",
    "    'location_input_dim': 2,\n",
    "    'time_input_dim': 1,\n",
    "    'mlp_location_numlayer': 3,\n",
    "    'mlp_time_numlayer': 3,\n",
    "    'img_embed_model': 'resnet50',\n",
    "    'use_data_subset': False,\n",
    "    'subset_size': 1500,\n",
    "}\n",
    "\n"
   ]
  },
  {
   "cell_type": "markdown",
   "id": "8ec126da-345b-41b5-8808-2e19f06442a4",
   "metadata": {},
   "source": [
    "**Train on images with no context**"
   ]
  },
  {
   "cell_type": "code",
   "execution_count": null,
   "id": "c9b1f889-df54-46a6-be93-70042ac78e54",
   "metadata": {},
   "outputs": [],
   "source": [
    "args_dict['save_dir'] = <SAVE_DIRECTORY> #Change to wherever you want to save model\n",
    "args_dict['add_id_id'] = False\n",
    "args_dict['add_image_location'] = False\n",
    "args_dict['add_image_time'] = False\n",
    "\n",
    "run_training(args_dict)"
   ]
  },
  {
   "cell_type": "markdown",
   "id": "b0b678f7-4748-47cb-ac84-860edf76c1d8",
   "metadata": {},
   "source": [
    "**Train on images with location context**"
   ]
  },
  {
   "cell_type": "code",
   "execution_count": null,
   "id": "26dd652e-dd2e-43f5-865d-2c58b7407fec",
   "metadata": {},
   "outputs": [],
   "source": [
    "args_dict['save_dir'] = <SAVE_DIRECTORY> #Change to wherever you want to save model\n",
    "args_dict['add_id_id'] = False\n",
    "args_dict['add_image_location'] = True\n",
    "args_dict['add_image_time'] = False\n",
    "\n",
    "run_training(args_dict)"
   ]
  },
  {
   "cell_type": "markdown",
   "id": "51be6315-212e-4e97-93f2-9e5ef45472c8",
   "metadata": {},
   "source": [
    "**Train on images with time context**"
   ]
  },
  {
   "cell_type": "code",
   "execution_count": null,
   "id": "30b754b3-8d15-468c-9fb3-5665d847ceb1",
   "metadata": {},
   "outputs": [],
   "source": [
    "args_dict['save_dir'] = <SAVE_DIRECTORY> #Change to wherever you want to save model\n",
    "args_dict['add_id_id'] = False\n",
    "args_dict['add_image_location'] = False\n",
    "args_dict['add_image_time'] = True\n",
    "\n",
    "run_training(args_dict)"
   ]
  },
  {
   "cell_type": "markdown",
   "id": "33ab03e1-2c79-4197-a442-3d77f8b4b9fd",
   "metadata": {},
   "source": [
    "**Train on images with taxonomy context**"
   ]
  },
  {
   "cell_type": "code",
   "execution_count": null,
   "id": "a176f56d-fc14-4f04-98a7-59687d6f9d20",
   "metadata": {},
   "outputs": [],
   "source": [
    "args_dict['save_dir'] = <SAVE_DIRECTORY> #Change to wherever you want to save model\n",
    "args_dict['add_id_id'] = True\n",
    "args_dict['add_image_location'] = False\n",
    "args_dict['add_image_time'] = False\n",
    "\n",
    "run_training(args_dict)"
   ]
  },
  {
   "cell_type": "markdown",
   "id": "13ff3777-d4d4-42d0-b452-5b2cfe27b15e",
   "metadata": {},
   "source": [
    "**Train on images with location and time contexts**"
   ]
  },
  {
   "cell_type": "code",
   "execution_count": null,
   "id": "403dbedb-fa94-45cd-8490-7a95cc4312e4",
   "metadata": {},
   "outputs": [],
   "source": [
    "args_dict['save_dir'] = <SAVE_DIRECTORY> #Change to wherever you want to save model\n",
    "args_dict['add_id_id'] = False\n",
    "args_dict['add_image_location'] = True\n",
    "args_dict['add_image_time'] = True\n",
    "\n",
    "run_training(args_dict)"
   ]
  },
  {
   "cell_type": "markdown",
   "id": "840de604-dc29-46a1-8763-222240324dd4",
   "metadata": {},
   "source": [
    "**Train on images with location and taxonomy contexts**"
   ]
  },
  {
   "cell_type": "code",
   "execution_count": null,
   "id": "163e8401-d3cc-4310-a3cf-005c206d74a7",
   "metadata": {
    "scrolled": true
   },
   "outputs": [],
   "source": [
    "args_dict['save_dir'] = <SAVE_DIRECTORY> #Change to wherever you want to save model\n",
    "args_dict['add_id_id'] = True\n",
    "args_dict['add_image_location'] = True\n",
    "args_dict['add_image_time'] = False\n",
    "\n",
    "run_training(args_dict)"
   ]
  },
  {
   "cell_type": "markdown",
   "id": "a7a3d999-030f-488d-9cde-3838e002bc47",
   "metadata": {},
   "source": [
    "**Train on images with time and taxonomy contexts**"
   ]
  },
  {
   "cell_type": "code",
   "execution_count": null,
   "id": "f9dd27f1-2fd2-499d-9686-52f62de8f382",
   "metadata": {
    "scrolled": true
   },
   "outputs": [],
   "source": [
    "args_dict['save_dir'] = <SAVE_DIRECTORY> #Change to wherever you want to save model\n",
    "args_dict['add_id_id'] = True\n",
    "args_dict['add_image_location'] = False\n",
    "args_dict['add_image_time'] = True\n",
    "\n",
    "run_training(args_dict)"
   ]
  },
  {
   "cell_type": "markdown",
   "id": "f71a80ba-7158-480d-9c25-c4dc269f09ca",
   "metadata": {},
   "source": [
    "**Train on images with location, time, and taxonomy contexts**"
   ]
  },
  {
   "cell_type": "code",
   "execution_count": null,
   "id": "937d0485-1c5b-4bf0-98aa-fa954bd1c039",
   "metadata": {
    "scrolled": true
   },
   "outputs": [],
   "source": [
    "args_dict['save_dir'] = <SAVE_DIRECTORY> #Change to wherever you want to save model\n",
    "args_dict['add_id_id'] = True\n",
    "args_dict['add_image_location'] = True\n",
    "args_dict['add_image_time'] = True\n",
    "\n",
    "run_training(args_dict)"
   ]
  }
 ],
 "metadata": {
  "kernelspec": {
   "display_name": "Python (species-env)",
   "language": "python",
   "name": "species-env"
  },
  "language_info": {
   "codemirror_mode": {
    "name": "ipython",
    "version": 3
   },
   "file_extension": ".py",
   "mimetype": "text/x-python",
   "name": "python",
   "nbconvert_exporter": "python",
   "pygments_lexer": "ipython3",
   "version": "3.9.18"
  }
 },
 "nbformat": 4,
 "nbformat_minor": 5
}

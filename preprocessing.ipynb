{
 "cells": [
  {
   "cell_type": "markdown",
   "id": "2cff6717-341c-4f18-aa0e-cf35e049e852",
   "metadata": {},
   "source": [
    "**Import necessary modules from python files in scripts/ folder**"
   ]
  },
  {
   "cell_type": "code",
   "execution_count": null,
   "id": "2e87237b-00eb-46cd-99e0-7a5f1798d9da",
   "metadata": {},
   "outputs": [],
   "source": [
    "from scripts.download_data_script import download_dataset_func\n",
    "from scripts.preprocess_data_script import run_preprocess_data\n",
    "from scripts.process_taxonomy_script import run_process_taxonomy\n",
    "from scripts.setup_taxonomy_script import setup_ott_taxonomy"
   ]
  },
  {
   "cell_type": "markdown",
   "id": "0aff1926-c0f4-4ac9-8516-0902e6f58f24",
   "metadata": {},
   "source": [
    "**Download pre-trained model and dataset_subtree.csv**"
   ]
  },
  {
   "cell_type": "code",
   "execution_count": null,
   "id": "811c085a-b8c8-4d11-a676-e608ac7d18a9",
   "metadata": {},
   "outputs": [],
   "source": [
    "download_dataset_func()"
   ]
  },
  {
   "cell_type": "markdown",
   "id": "73f3d5fc-88d5-4353-957a-5d8f488e2d91",
   "metadata": {},
   "source": [
    "**Download and process taxonomy data**"
   ]
  },
  {
   "cell_type": "code",
   "execution_count": 21,
   "id": "a6028f70-423c-4ea2-bb5f-768eb519e93a",
   "metadata": {},
   "outputs": [
    {
     "name": "stdout",
     "output_type": "stream",
     "text": [
      "ott3.3.tgz already exists, skipping download.\n",
      "Extracting ott3.3.tgz...\n",
      "Extraction complete.\n"
     ]
    },
    {
     "name": "stderr",
     "output_type": "stream",
     "text": [
      "100%|██████████| 4528126/4528126 [00:15<00:00, 291298.60it/s]\n"
     ]
    }
   ],
   "source": [
    "setup_ott_taxonomy()\n",
    "run_process_taxonomy()"
   ]
  },
  {
   "cell_type": "markdown",
   "id": "09e23ab3-fdb2-43a3-a3ab-95b5c3b69d7b",
   "metadata": {},
   "source": [
    "**Download image and other data and process**"
   ]
  },
  {
   "cell_type": "code",
   "execution_count": 10,
   "id": "4c6152d7-6b5b-43b9-bb53-b8fca8cb109b",
   "metadata": {},
   "outputs": [
    {
     "name": "stderr",
     "output_type": "stream",
     "text": [
      "100%|██████████| 4528126/4528126 [00:02<00:00, 1996917.30it/s]\n",
      "100%|██████████| 203029/203029 [00:00<00:00, 1556359.74it/s]\n"
     ]
    }
   ],
   "source": [
    "run_preprocess_data()"
   ]
  }
 ],
 "metadata": {
  "kernelspec": {
   "display_name": "Python 3 (ipykernel)",
   "language": "python",
   "name": "python3"
  },
  "language_info": {
   "codemirror_mode": {
    "name": "ipython",
    "version": 3
   },
   "file_extension": ".py",
   "mimetype": "text/x-python",
   "name": "python",
   "nbconvert_exporter": "python",
   "pygments_lexer": "ipython3",
   "version": "3.9.18"
  }
 },
 "nbformat": 4,
 "nbformat_minor": 5
}
